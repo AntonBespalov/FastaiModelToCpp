{
  "nbformat": 4,
  "nbformat_minor": 0,
  "metadata": {
    "colab": {
      "name": "TorchScriptOfFastAIModel.ipynb",
      "provenance": [],
      "collapsed_sections": [],
      "include_colab_link": true
    },
    "kernelspec": {
      "name": "python3",
      "display_name": "Python 3"
    }
  },
  "cells": [
    {
      "cell_type": "markdown",
      "metadata": {
        "id": "view-in-github",
        "colab_type": "text"
      },
      "source": [
        "<a href=\"https://colab.research.google.com/github/AntonBespalov/FastaiModelToCpp/blob/master/TorchScriptOfFastAIModel.ipynb\" target=\"_parent\"><img src=\"https://colab.research.google.com/assets/colab-badge.svg\" alt=\"Open In Colab\"/></a>"
      ]
    },
    {
      "cell_type": "code",
      "metadata": {
        "id": "DI8bQp3Jnu7x",
        "colab_type": "code",
        "colab": {}
      },
      "source": [
        "%reload_ext autoreload\n",
        "%autoreload 2\n",
        "%matplotlib inline"
      ],
      "execution_count": 0,
      "outputs": []
    },
    {
      "cell_type": "code",
      "metadata": {
        "id": "4YqKdNb3olg0",
        "colab_type": "code",
        "outputId": "ce54daff-92dd-48a1-9aa0-605b43b96f3d",
        "colab": {
          "base_uri": "https://localhost:8080/",
          "height": 54
        }
      },
      "source": [
        "!curl -s https://course.fast.ai/setup/colab | bash"
      ],
      "execution_count": 2,
      "outputs": [
        {
          "output_type": "stream",
          "text": [
            "Updating fastai...\n",
            "Done.\n"
          ],
          "name": "stdout"
        }
      ]
    },
    {
      "cell_type": "code",
      "metadata": {
        "id": "mRU__KdLood0",
        "colab_type": "code",
        "colab": {}
      },
      "source": [
        "import PIL\n",
        "from PIL import Image\n",
        "\n",
        "import cv2\n",
        "\n",
        "import fastai\n",
        "from fastai.vision import *\n",
        "\n",
        "import torch\n",
        "import torchvision\n",
        "from torchvision import transforms"
      ],
      "execution_count": 0,
      "outputs": []
    },
    {
      "cell_type": "code",
      "metadata": {
        "id": "bZJI2m-v2xZo",
        "colab_type": "code",
        "colab": {
          "base_uri": "https://localhost:8080/",
          "height": 54
        },
        "outputId": "5ba66db5-a88b-4e8b-bc77-b0d7a7bf8e53"
      },
      "source": [
        "print(f'opencv version: {cv2.__version__}')\n",
        "print(f'fastai version: {__version__}')\n"
      ],
      "execution_count": 4,
      "outputs": [
        {
          "output_type": "stream",
          "text": [
            "opencv version: 3.4.3\n",
            "fastai version: 1.0.59\n"
          ],
          "name": "stdout"
        }
      ]
    },
    {
      "cell_type": "code",
      "metadata": {
        "id": "083Or_iCosoE",
        "colab_type": "code",
        "outputId": "57ee3427-44ee-4f4a-9ed3-a3c4ebb73deb",
        "colab": {
          "base_uri": "https://localhost:8080/",
          "height": 35
        }
      },
      "source": [
        "defaults.device = torch.device('cpu'); defaults.device"
      ],
      "execution_count": 5,
      "outputs": [
        {
          "output_type": "execute_result",
          "data": {
            "text/plain": [
              "device(type='cpu')"
            ]
          },
          "metadata": {
            "tags": []
          },
          "execution_count": 5
        }
      ]
    },
    {
      "cell_type": "code",
      "metadata": {
        "id": "vUFzXoxGo-wl",
        "colab_type": "code",
        "colab": {}
      },
      "source": [
        "size = 28\n",
        "image_path = 'test_img.png'"
      ],
      "execution_count": 0,
      "outputs": []
    },
    {
      "cell_type": "markdown",
      "metadata": {
        "id": "DVm2xlLE-NlG",
        "colab_type": "text"
      },
      "source": [
        "Create a random image with OpenCV."
      ]
    },
    {
      "cell_type": "code",
      "metadata": {
        "id": "NAhzkdv864f3",
        "colab_type": "code",
        "colab": {
          "base_uri": "https://localhost:8080/",
          "height": 35
        },
        "outputId": "29c5d036-d916-4ec1-f43c-493735d350ea"
      },
      "source": [
        "image_array = np.random.randn(28, 28, 3).astype(np.uint8)\n",
        "cv2.imwrite(image_path, image_array)"
      ],
      "execution_count": 7,
      "outputs": [
        {
          "output_type": "execute_result",
          "data": {
            "text/plain": [
              "True"
            ]
          },
          "metadata": {
            "tags": []
          },
          "execution_count": 7
        }
      ]
    },
    {
      "cell_type": "code",
      "metadata": {
        "id": "r-FGTBOIu7JO",
        "colab_type": "code",
        "colab": {}
      },
      "source": [
        "path = untar_data(URLs.MNIST_TINY)\n",
        "data = ImageDataBunch.from_folder(path, size=size)"
      ],
      "execution_count": 0,
      "outputs": []
    },
    {
      "cell_type": "code",
      "metadata": {
        "id": "juoQa00ksgKK",
        "colab_type": "code",
        "colab": {}
      },
      "source": [
        "learn = cnn_learner(data, models.resnet18)"
      ],
      "execution_count": 0,
      "outputs": []
    },
    {
      "cell_type": "markdown",
      "metadata": {
        "id": "yKZVmC65x4qn",
        "colab_type": "text"
      },
      "source": [
        "The model is supposed to be trained here. I'm skipping this step, because it doesn't matter to our task."
      ]
    },
    {
      "cell_type": "code",
      "metadata": {
        "id": "AI75s2pMutqS",
        "colab_type": "code",
        "outputId": "aa151a45-8e07-4235-a9e2-8419447ca34a",
        "colab": {
          "base_uri": "https://localhost:8080/",
          "height": 35
        }
      },
      "source": [
        "pred = learn.predict(open_image(image_path)); pred[2]"
      ],
      "execution_count": 11,
      "outputs": [
        {
          "output_type": "execute_result",
          "data": {
            "text/plain": [
              "tensor([0.7567, 0.2433])"
            ]
          },
          "metadata": {
            "tags": []
          },
          "execution_count": 11
        }
      ]
    },
    {
      "cell_type": "code",
      "metadata": {
        "id": "-0SqeSTLvPyy",
        "colab_type": "code",
        "colab": {}
      },
      "source": [
        "traced_script_module = torch.jit.trace(learn.model, torch.rand(1, 3, size, size))"
      ],
      "execution_count": 0,
      "outputs": []
    },
    {
      "cell_type": "code",
      "metadata": {
        "id": "Igw8SurC3qH1",
        "colab_type": "code",
        "colab": {}
      },
      "source": [
        "traced_script_module.save(\"traced_model.pt\")"
      ],
      "execution_count": 0,
      "outputs": []
    },
    {
      "cell_type": "markdown",
      "metadata": {
        "id": "3L6iFqWCzFDY",
        "colab_type": "text"
      },
      "source": [
        "Let's make sure on the Python side, that we have the same predictions from predict() method we called for our Learner and from forward() method we called for TorchScript representation."
      ]
    },
    {
      "cell_type": "code",
      "metadata": {
        "id": "JxkZKFzk7SyN",
        "colab_type": "code",
        "colab": {}
      },
      "source": [
        "opencvImage = cv2.imread(image_path, cv2.IMREAD_UNCHANGED)\n",
        "opencvImage = cv2.cvtColor(np.array(opencvImage), cv2.COLOR_RGB2BGR)\n",
        "\n",
        "imageTensor = torch.from_numpy(opencvImage)\n",
        "imageTensor = imageTensor.float().div_(255)\n",
        "imageTensor = imageTensor.permute(2, 0, 1)"
      ],
      "execution_count": 0,
      "outputs": []
    },
    {
      "cell_type": "code",
      "metadata": {
        "id": "LdBO0rrjq5LQ",
        "colab_type": "code",
        "outputId": "9a9586f4-ebeb-42c6-c678-3c174da55381",
        "colab": {
          "base_uri": "https://localhost:8080/",
          "height": 35
        }
      },
      "source": [
        "out = traced_script_module.forward(imageTensor[None]);\n",
        "out_softmax = out.softmax(-1); out_softmax"
      ],
      "execution_count": 15,
      "outputs": [
        {
          "output_type": "execute_result",
          "data": {
            "text/plain": [
              "tensor([[0.7567, 0.2433]], grad_fn=<SoftmaxBackward>)"
            ]
          },
          "metadata": {
            "tags": []
          },
          "execution_count": 15
        }
      ]
    },
    {
      "cell_type": "markdown",
      "metadata": {
        "id": "mW-uy_6Yzh_T",
        "colab_type": "text"
      },
      "source": [
        "The predictions are equal."
      ]
    },
    {
      "cell_type": "code",
      "metadata": {
        "id": "ThIfWgPL-s_w",
        "colab_type": "code",
        "colab": {}
      },
      "source": [
        ""
      ],
      "execution_count": 0,
      "outputs": []
    }
  ]
}